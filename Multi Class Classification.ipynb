{
 "cells": [
  {
   "cell_type": "code",
   "execution_count": 1,
   "metadata": {},
   "outputs": [],
   "source": [
    "import os\n",
    "import glob"
   ]
  },
  {
   "cell_type": "code",
   "execution_count": 1,
   "metadata": {},
   "outputs": [
    {
     "data": {
      "text/plain": [
       "\"os.mkdir('DataForMulti')\\n\\nos.mkdir('DataForMulti/adenosis')\\nos.mkdir('DataForMulti/fibroadenoma')\\nos.mkdir('DataForMulti/phyllodes_tumor')\\nos.mkdir('DataForMulti/tubular_adenoma')\\n\\nos.mkdir('DataForMulti/ductal_carcinoma')\\nos.mkdir('DataForMulti/lobular_carcinoma')\\nos.mkdir('DataForMulti/mucinous_carcinoma')\\nos.mkdir('DataForMulti/papillary_carcinoma')\""
      ]
     },
     "execution_count": 1,
     "metadata": {},
     "output_type": "execute_result"
    }
   ],
   "source": [
    "'''os.mkdir('DataForMulti')\n",
    "\n",
    "os.mkdir('DataForMulti/adenosis')\n",
    "os.mkdir('DataForMulti/fibroadenoma')\n",
    "os.mkdir('DataForMulti/phyllodes_tumor')\n",
    "os.mkdir('DataForMulti/tubular_adenoma')\n",
    "\n",
    "os.mkdir('DataForMulti/ductal_carcinoma')\n",
    "os.mkdir('DataForMulti/lobular_carcinoma')\n",
    "os.mkdir('DataForMulti/mucinous_carcinoma')\n",
    "os.mkdir('DataForMulti/papillary_carcinoma')'''"
   ]
  },
  {
   "cell_type": "code",
   "execution_count": 3,
   "metadata": {},
   "outputs": [],
   "source": [
    "def get_files(dirName):\n",
    "    \n",
    "    list_dir = os.listdir(dirName)\n",
    "    all_files = list()\n",
    "    \n",
    "    for folder in list_dir:\n",
    "        PATH = os.path.join(dirName, folder)\n",
    "        \n",
    "        if(os.path.isdir(PATH)):\n",
    "            \n",
    "            all_files += get_files(PATH)\n",
    "        else:\n",
    "            \n",
    "            all_files.append(PATH)\n",
    "    return all_files"
   ]
  },
  {
   "cell_type": "code",
   "execution_count": 3,
   "metadata": {},
   "outputs": [],
   "source": [
    "#adenosis1 = get_files('Data/benign/SOB/adenosis')"
   ]
  },
  {
   "cell_type": "code",
   "execution_count": 8,
   "metadata": {},
   "outputs": [],
   "source": [
    "#import shutil\n",
    "#for file in adenosis1:\n",
    "    \n",
    "   # if(file.endswith('.png')):\n",
    "    #    shutil.copy(file, 'DataForMulti/adenosis')"
   ]
  },
  {
   "cell_type": "code",
   "execution_count": 4,
   "metadata": {},
   "outputs": [],
   "source": [
    "adenosis = get_files('DataForMulti/adenosis')"
   ]
  },
  {
   "cell_type": "code",
   "execution_count": 5,
   "metadata": {},
   "outputs": [
    {
     "data": {
      "text/plain": [
       "444"
      ]
     },
     "execution_count": 5,
     "metadata": {},
     "output_type": "execute_result"
    }
   ],
   "source": [
    "len(adenosis)"
   ]
  },
  {
   "cell_type": "code",
   "execution_count": 6,
   "metadata": {},
   "outputs": [],
   "source": [
    "f1 = get_files('Data/benign/SOB/fibroadenoma')\n",
    "pt1 = get_files('Data/benign/SOB/phyllodes_tumor')\n",
    "ta1 = get_files('Data/benign/SOB/tubular_adenoma')"
   ]
  },
  {
   "cell_type": "code",
   "execution_count": 53,
   "metadata": {},
   "outputs": [],
   "source": [
    "#for file in f1:\n",
    " #   \n",
    "  #  if(file.endswith('.png')):\n",
    "   #     shutil.copy(file, 'DataForMulti/fibroadenoma')\n",
    "        \n",
    "#for file in pt1:\n",
    "    \n",
    " #   if(file.endswith('.png')):\n",
    "  #      shutil.copy(file, 'DataForMulti/phyllodes_tumor')\n",
    "        \n",
    "#for file in ta1:\n",
    "    \n",
    " #   if(file.endswith('.png')):\n",
    "  #      shutil.copy(file, 'DataForMulti/tubular_adenoma')"
   ]
  },
  {
   "cell_type": "code",
   "execution_count": 7,
   "metadata": {},
   "outputs": [],
   "source": [
    "ductal_carcinoma1 = get_files('Data/malignant/SOB/ductal_carcinoma')\n",
    "lobular_carcinoma1 = get_files('Data/malignant/SOB/lobular_carcinoma')\n",
    "mucinous_carcinoma1 = get_files('Data/malignant/SOB/mucinous_carcinoma')\n",
    "papillary_carcinoma1 = get_files('Data/malignant/SOB/papillary_carcinoma')"
   ]
  },
  {
   "cell_type": "code",
   "execution_count": 58,
   "metadata": {},
   "outputs": [],
   "source": [
    "'''for file in ductal_carcinoma1:\n",
    "    \n",
    "    if(file.endswith('.png')):\n",
    "        shutil.copy(file, 'DataForMulti/ductal_carcinoma')\n",
    "\n",
    "for file in lobular_carcinoma1:\n",
    "    \n",
    "    if(file.endswith('.png')):\n",
    "        shutil.copy(file, 'DataForMulti/lobular_carcinoma')\n",
    "        \n",
    "for file in mucinous_carcinoma1:\n",
    "    \n",
    "    if(file.endswith('.png')):\n",
    "        shutil.copy(file, 'DataForMulti/mucinous_carcinoma')\n",
    "        \n",
    "for file in papillary_carcinoma1:\n",
    "    \n",
    "    if(file.endswith('.png')):\n",
    "        shutil.copy(file, 'DataForMulti/papillary_carcinoma')'''"
   ]
  },
  {
   "cell_type": "code",
   "execution_count": 1,
   "metadata": {},
   "outputs": [],
   "source": [
    "import numpy as np\n",
    "import pandas as pd\n",
    "#import seaborn as sns"
   ]
  },
  {
   "cell_type": "code",
   "execution_count": 9,
   "metadata": {},
   "outputs": [],
   "source": [
    "A = np.array(os.listdir('DataForMulti/adenosis'))\n",
    "F = np.array(os.listdir('DataForMulti/fibroadenoma'))\n",
    "PT = np.array(os.listdir('DataForMulti/phyllodes_tumor'))\n",
    "TA = np.array(os.listdir('DataForMulti/tubular_adenoma'))\n",
    "\n",
    "DC = np.array(os.listdir('DataForMulti/ductal_carcinoma'))\n",
    "LC = np.array(os.listdir('DataForMulti/lobular_carcinoma'))\n",
    "MC = np.array(os.listdir('DataForMulti/mucinous_carcinoma'))\n",
    "PC = np.array(os.listdir('DataForMulti/papillary_carcinoma'))"
   ]
  },
  {
   "cell_type": "code",
   "execution_count": 10,
   "metadata": {},
   "outputs": [
    {
     "name": "stdout",
     "output_type": "stream",
     "text": [
      "1014\n"
     ]
    }
   ],
   "source": [
    "print(len(F))"
   ]
  },
  {
   "cell_type": "code",
   "execution_count": 71,
   "metadata": {},
   "outputs": [
    {
     "name": "stdout",
     "output_type": "stream",
     "text": [
      "i =  1\n",
      "F\n"
     ]
    }
   ],
   "source": [
    "length = len(A) + len(F) + len(PT) + len(TA) + len(DC) + len(LC) + len(MC) + len(PC)\n",
    "data2 = pd.DataFrame(index = np.arange(0, length), columns = [\"image\", \"class\"])\n",
    "k = 0\n",
    "for i in range(0, 1):\n",
    "    if i==0:\n",
    "        for m in range(len(A)):\n",
    "            data2.iloc[k][\"image\"] = adenosis[m]\n",
    "            data2.iloc[k][\"class\"] = 'A'\n",
    "            k += 1\n",
    "            #print(\"k = \", k)\n",
    "         \n",
    "for i in range(1, 2): \n",
    "    print(\"i = \", i)\n",
    "    if(i == 1):\n",
    "        print(\"F\")\n",
    "        for m in range(len(F)):\n",
    "            data2.iloc[k][\"image\"] = f1[m]\n",
    "            data2.iloc[k][\"class\"] = 'F'\n",
    "            k += 1\n",
    "for i in range(2, 3):    \n",
    "    if(i == 2):\n",
    "        for m in range(len(PT)):\n",
    "            data2.iloc[k][\"image\"] = pt1[m]\n",
    "            data2.iloc[k][\"class\"] = 'PT'\n",
    "            k += 1\n",
    "for i in range(3, 4):       \n",
    "    if(i == 3):\n",
    "        for m in range(len(TA)):\n",
    "            data2.iloc[k][\"image\"] = ta1[m]\n",
    "            data2.iloc[k][\"class\"] = 'TA'\n",
    "            k += 1\n",
    "for i in range(4, 5):      \n",
    "    if(i == 4):\n",
    "        for m in range(len(DC)):\n",
    "            data2.iloc[k][\"image\"] = ductal_carcinoma1[m]\n",
    "            data2.iloc[k][\"class\"] = 'DC'\n",
    "            k += 1\n",
    "for i in range(5, 6):      \n",
    "    if(i == 5):\n",
    "        for m in range(len(LC)):\n",
    "            data2.iloc[k][\"image\"] = lobular_carcinoma1[m]\n",
    "            data2.iloc[k][\"class\"] = 'LC'\n",
    "            k += 1\n",
    "for i in range(6, 7):        \n",
    "    if(i == 6):\n",
    "        for m in range(len(MC)):\n",
    "            data2.iloc[k][\"image\"] = mucinous_carcinoma1[m]\n",
    "            data2.iloc[k][\"class\"] = 'MC'\n",
    "            k += 1\n",
    "for i in range(7, 8):       \n",
    "    if(i == 7):\n",
    "        for m in range(len(PC)):\n",
    "            data2.iloc[k][\"image\"] = papillary_carcinoma1[m]\n",
    "            data2.iloc[k][\"class\"] = 'PC'\n",
    "            k += 1"
   ]
  },
  {
   "cell_type": "code",
   "execution_count": 67,
   "metadata": {},
   "outputs": [
    {
     "data": {
      "text/plain": [
       "(7909, 2)"
      ]
     },
     "execution_count": 67,
     "metadata": {},
     "output_type": "execute_result"
    }
   ],
   "source": [
    "data2.shape"
   ]
  },
  {
   "cell_type": "code",
   "execution_count": 68,
   "metadata": {},
   "outputs": [
    {
     "data": {
      "text/plain": [
       "ductal_carcinoma       3451\n",
       "fibroadenoma           1014\n",
       "mucinous_carcinoma      792\n",
       "lobular_carcinoma       626\n",
       "tubular_adenoma         569\n",
       "papillary_carcinoma     560\n",
       "phyllodes_tumor         453\n",
       "Adenosis                444\n",
       "Name: class, dtype: int64"
      ]
     },
     "execution_count": 68,
     "metadata": {},
     "output_type": "execute_result"
    }
   ],
   "source": [
    "count=data2[\"class\"].value_counts() \n",
    "count"
   ]
  },
  {
   "cell_type": "code",
   "execution_count": 72,
   "metadata": {},
   "outputs": [
    {
     "data": {
      "text/plain": [
       "<AxesSubplot:xlabel='class', ylabel='Count'>"
      ]
     },
     "execution_count": 72,
     "metadata": {},
     "output_type": "execute_result"
    },
    {
     "data": {
      "image/png": "[encoded data removed]",
      "text/plain": [
       "<Figure size 432x288 with 1 Axes>"
      ]
     },
     "metadata": {
      "needs_background": "light"
     },
     "output_type": "display_data"
    }
   ],
   "source": [
    "sns.histplot(data = data2, x = \"class\", binwidth = 20)"
   ]
  },
  {
   "cell_type": "code",
   "execution_count": 1,
   "metadata": {},
   "outputs": [],
   "source": [
    "#import matplotlib.pyplot as plt\n",
    "import numpy as np\n",
    "import pandas as pd\n",
    "#import os\n",
    "#import PIL\n",
    "import tensorflow as tf\n",
    "\n",
    "from tensorflow import keras\n",
    "from tensorflow.keras import layers\n",
    "from tensorflow.keras.models import Sequential"
   ]
  },
  {
   "cell_type": "code",
   "execution_count": 2,
   "metadata": {},
   "outputs": [],
   "source": [
    "data_augmentation = keras.Sequential(\n",
    "  [\n",
    "    layers.RandomFlip(\"horizontal\"),\n",
    "    layers.RandomRotation(0.90),\n",
    "  ]\n",
    ")\n",
    "#train_ds = train_ds.shuffle(buffer_size=3)"
   ]
  },
  {
   "cell_type": "code",
   "execution_count": 3,
   "metadata": {},
   "outputs": [
    {
     "data": {
      "text/plain": [
       "<tf.Tensor: shape=(), dtype=string, numpy=b'DataForMulti'>"
      ]
     },
     "execution_count": 3,
     "metadata": {},
     "output_type": "execute_result"
    }
   ],
   "source": [
    "tf.random.shuffle(\n",
    "    'DataForMulti', seed=None, name=None\n",
    ")"
   ]
  },
  {
   "cell_type": "code",
   "execution_count": 4,
   "metadata": {},
   "outputs": [
    {
     "name": "stdout",
     "output_type": "stream",
     "text": [
      "Found 7909 files belonging to 8 classes.\n",
      "Using 6328 files for training.\n"
     ]
    }
   ],
   "source": [
    "train_ds = tf.keras.utils.image_dataset_from_directory(\n",
    "  'DataForMulti',\n",
    "  validation_split=0.2,\n",
    "  subset=\"training\",\n",
    "  seed=123,\n",
    "  image_size=(180, 180),\n",
    "  batch_size=32)"
   ]
  },
  {
   "cell_type": "code",
   "execution_count": 5,
   "metadata": {},
   "outputs": [
    {
     "name": "stdout",
     "output_type": "stream",
     "text": [
      "Found 7909 files belonging to 8 classes.\n",
      "Using 1581 files for validation.\n"
     ]
    }
   ],
   "source": [
    "val_ds = tf.keras.utils.image_dataset_from_directory(\n",
    "  'DataForMulti',\n",
    "  validation_split=0.2,\n",
    "  subset=\"validation\",\n",
    "  seed=123,\n",
    "  image_size=(180, 180),\n",
    "  batch_size=32)"
   ]
  },
  {
   "cell_type": "code",
   "execution_count": 6,
   "metadata": {},
   "outputs": [
    {
     "name": "stdout",
     "output_type": "stream",
     "text": [
      "['adenosis', 'ductal_carcinoma', 'fibroadenoma', 'lobular_carcinoma', 'mucinous_carcinoma', 'papillary_carcinoma', 'phyllodes_tumor', 'tubular_adenoma']\n"
     ]
    }
   ],
   "source": [
    "class_names = train_ds.class_names\n",
    "print(class_names)"
   ]
  },
  {
   "cell_type": "code",
   "execution_count": 7,
   "metadata": {},
   "outputs": [
    {
     "name": "stdout",
     "output_type": "stream",
     "text": [
      "(32, 180, 180, 3)\n",
      "(32,)\n"
     ]
    }
   ],
   "source": [
    "for image_batch, labels_batch in train_ds:\n",
    "  np.asarray(labels_batch).astype('float32').reshape((-1,1))\n",
    "  np.asarray(image_batch).astype('float32').reshape((-1,1))\n",
    "  print(image_batch.shape)\n",
    "  print(labels_batch.shape)\n",
    "  break"
   ]
  },
  {
   "cell_type": "code",
   "execution_count": 8,
   "metadata": {},
   "outputs": [],
   "source": [
    "AUTOTUNE = tf.data.AUTOTUNE\n",
    "\n",
    "train_ds = train_ds.cache().shuffle(1000).prefetch(buffer_size=AUTOTUNE)\n",
    "val_ds = val_ds.cache().prefetch(buffer_size=AUTOTUNE)"
   ]
  },
  {
   "cell_type": "code",
   "execution_count": 9,
   "metadata": {},
   "outputs": [],
   "source": [
    "normalization_layer = layers.Rescaling(1./255)"
   ]
  },
  {
   "cell_type": "code",
   "execution_count": 10,
   "metadata": {},
   "outputs": [
    {
     "name": "stdout",
     "output_type": "stream",
     "text": [
      "0.35395792 0.99172074\n"
     ]
    }
   ],
   "source": [
    "normalized_ds = train_ds.map(lambda x, y: (normalization_layer(x), y))\n",
    "image_batch, labels_batch = next(iter(normalized_ds))\n",
    "first_image = image_batch[0]\n",
    "# Notice the pixel values are now in `[0,1]`.\n",
    "print(np.min(first_image), np.max(first_image))"
   ]
  },
  {
   "cell_type": "code",
   "execution_count": 43,
   "metadata": {},
   "outputs": [],
   "source": [
    "model9 = keras.Sequential()\n",
    "\n",
    "# Convolutional layer and maxpool layer 1\n",
    "model9.add(data_augmentation)\n",
    "model9.add(keras.layers.Conv2D(64,(3,3),activation='relu',input_shape=(180,180,3), kernel_initializer=tf.initializers.RandomNormal(mean=0.0, stddev=0.05)))\n",
    "model9.add(keras.layers.MaxPool2D(2,2))\n",
    "\n",
    "\n",
    "# Convolutional layer and maxpool layer 2\n",
    "model9.add(keras.layers.Conv2D(96,(3,3),activation='relu', kernel_initializer=tf.initializers.RandomNormal(mean=0.0, stddev=0.05)))\n",
    "model9.add(keras.layers.MaxPool2D(2,2))\n",
    "\n",
    "\n",
    "# Convolutional layer and maxpool layer 3\n",
    "model9.add(keras.layers.Conv2D(128,(3,3),activation='relu', kernel_initializer=tf.initializers.RandomNormal(mean=0.0, stddev=0.05)))\n",
    "\n",
    "\n",
    "\n",
    "# Convolutional layer and maxpool layer 4\n",
    "model9.add(keras.layers.Conv2D(256,(3,3),activation='relu', kernel_initializer=tf.initializers.RandomNormal(mean=0.0, stddev=0.05)))\n",
    "\n",
    "\n",
    "# Convolutional layer and maxpool layer 5\n",
    "model9.add(keras.layers.Conv2D(256,(3,3),activation='relu', kernel_initializer=tf.initializers.RandomNormal(mean=0.0, stddev=0.05)))\n",
    "model9.add(keras.layers.MaxPool2D(2,2))\n",
    "\n",
    "\n",
    "# This layer flattens the resulting image array to 1D array\n",
    "\n",
    "model9.add(keras.layers.Flatten())\n",
    "\n",
    "# Hidden layer with 512 neurons and Rectified Linear Unit activation function \n",
    "model9.add(keras.layers.Dense(units=2000,activation='relu'))\n",
    "model9.add(keras.layers.Dropout(0.5))\n",
    "\n",
    "\n",
    "model9.add(keras.layers.Dense(8, activation='softmax', kernel_initializer=tf.initializers.RandomNormal(mean=0.0, stddev=0.05)))\n",
    "\n",
    "\n",
    "SDG = tf.keras.optimizers.SGD(learning_rate=0.001, momentum=0.9)\n",
    "model9.compile(optimizer=SDG, loss='sparse_categorical_crossentropy', metrics=['accuracy'])\n"
   ]
  },
  {
   "cell_type": "code",
   "execution_count": 11,
   "metadata": {},
   "outputs": [],
   "source": [
    "model1 = keras.Sequential()\n",
    "    \n",
    "model1.add(data_augmentation)\n",
    "    \n",
    "model1.add(keras.layers.Conv2D(filters=96, kernel_size=(11,11), strides=(4,4), activation='relu', input_shape=(256,256,3), kernel_initializer=tf.initializers.RandomNormal(mean=0.0, stddev=0.01)))\n",
    "model1.add(keras.layers.BatchNormalization())\n",
    "model1.add(keras.layers.MaxPool2D(pool_size=(3,3), strides=(2,2)))\n",
    "    \n",
    "model1.add(keras.layers.Conv2D(filters=256, kernel_size=(5,5), strides=(1,1), activation='relu', padding=\"same\"))\n",
    "model1.add(keras.layers.BatchNormalization())\n",
    "model1.add(keras.layers.MaxPool2D(pool_size=(3,3), strides=(2,2)))\n",
    "    \n",
    "model1.add(keras.layers.Conv2D(filters=384, kernel_size=(3,3), strides=(1,1), activation='relu', padding=\"same\"))\n",
    "model1.add(keras.layers.BatchNormalization())\n",
    "    \n",
    "model1.add(keras.layers.Conv2D(filters=384, kernel_size=(3,3), strides=(1,1), activation='relu', padding=\"same\"))\n",
    "model1.add(keras.layers.BatchNormalization())\n",
    "    \n",
    "model1.add(keras.layers.Conv2D(filters=256, kernel_size=(3,3), strides=(1,1), activation='relu', padding=\"same\"))\n",
    "model1.add(keras.layers.BatchNormalization())\n",
    "model1.add(keras.layers.MaxPool2D(pool_size=(3,3), strides=(2,2)))\n",
    "    \n",
    "model1.add(keras.layers.Flatten())\n",
    "    \n",
    "model1.add(keras.layers.Dense(4096, activation='relu'))\n",
    "model1.add(keras.layers.Dropout(0.5))\n",
    "    \n",
    "model1.add(keras.layers.Dense(4096, activation='relu'))\n",
    "model1.add(keras.layers.Dropout(0.5))\n",
    "    \n",
    "model1.add(keras.layers.Dense(8, activation='softmax'))\n",
    "\n",
    "\n",
    "\n",
    "model1.compile(loss='sparse_categorical_crossentropy', optimizer='adam', metrics=['accuracy'])"
   ]
  },
  {
   "cell_type": "code",
   "execution_count": 16,
   "metadata": {},
   "outputs": [
    {
     "name": "stdout",
     "output_type": "stream",
     "text": [
      "Epoch 1/20\n",
      "198/198 [==============================] - 218s 1s/step - loss: 0.9676 - accuracy: 0.6411 - val_loss: 2.8898 - val_accuracy: 0.2954\n",
      "Epoch 2/20\n",
      "198/198 [==============================] - 217s 1s/step - loss: 0.9420 - accuracy: 0.6468 - val_loss: 4.3689 - val_accuracy: 0.1018\n",
      "Epoch 3/20\n",
      "198/198 [==============================] - 215s 1s/step - loss: 0.9056 - accuracy: 0.6539 - val_loss: 3.1813 - val_accuracy: 0.3276\n",
      "Epoch 4/20\n",
      "198/198 [==============================] - 217s 1s/step - loss: 0.8805 - accuracy: 0.6716 - val_loss: 2.2769 - val_accuracy: 0.3517\n",
      "Epoch 5/20\n",
      "198/198 [==============================] - 219s 1s/step - loss: 0.8725 - accuracy: 0.6813 - val_loss: 2.7726 - val_accuracy: 0.3384\n",
      "Epoch 6/20\n",
      "198/198 [==============================] - 217s 1s/step - loss: 0.8384 - accuracy: 0.6784 - val_loss: 3.7708 - val_accuracy: 0.2777\n",
      "Epoch 7/20\n",
      "198/198 [==============================] - 219s 1s/step - loss: 0.8133 - accuracy: 0.6830 - val_loss: 4.4763 - val_accuracy: 0.3599\n",
      "Epoch 8/20\n",
      "198/198 [==============================] - 217s 1s/step - loss: 0.8072 - accuracy: 0.6903 - val_loss: 1.8412 - val_accuracy: 0.5054\n",
      "Epoch 9/20\n",
      "198/198 [==============================] - 219s 1s/step - loss: 0.7888 - accuracy: 0.7037 - val_loss: 2.8967 - val_accuracy: 0.3416\n",
      "Epoch 10/20\n",
      "198/198 [==============================] - 218s 1s/step - loss: 0.7464 - accuracy: 0.7140 - val_loss: 11.2669 - val_accuracy: 0.3169\n",
      "Epoch 11/20\n",
      "198/198 [==============================] - 218s 1s/step - loss: 0.7833 - accuracy: 0.7089 - val_loss: 2.0684 - val_accuracy: 0.4073\n",
      "Epoch 12/20\n",
      "198/198 [==============================] - 181s 916ms/step - loss: 0.7312 - accuracy: 0.7230 - val_loss: 5.1442 - val_accuracy: 0.1784\n",
      "Epoch 13/20\n",
      "198/198 [==============================] - 120s 604ms/step - loss: 0.7170 - accuracy: 0.7263 - val_loss: 4.2512 - val_accuracy: 0.3871\n",
      "Epoch 14/20\n",
      "198/198 [==============================] - 120s 605ms/step - loss: 0.7068 - accuracy: 0.7279 - val_loss: 2.5941 - val_accuracy: 0.3226\n",
      "Epoch 15/20\n",
      "198/198 [==============================] - 125s 628ms/step - loss: 0.6763 - accuracy: 0.7451 - val_loss: 3.8144 - val_accuracy: 0.2176\n",
      "Epoch 16/20\n",
      "198/198 [==============================] - 123s 618ms/step - loss: 0.6851 - accuracy: 0.7456 - val_loss: 1.1535 - val_accuracy: 0.5844\n",
      "Epoch 17/20\n",
      "198/198 [==============================] - 132s 666ms/step - loss: 0.6608 - accuracy: 0.7483 - val_loss: 2.8470 - val_accuracy: 0.2549\n",
      "Epoch 18/20\n",
      "198/198 [==============================] - 129s 651ms/step - loss: 0.6218 - accuracy: 0.7650 - val_loss: 3.7756 - val_accuracy: 0.2840\n",
      "Epoch 19/20\n",
      "198/198 [==============================] - 123s 621ms/step - loss: 0.6266 - accuracy: 0.7647 - val_loss: 5.8319 - val_accuracy: 0.2176\n",
      "Epoch 20/20\n",
      "198/198 [==============================] - 128s 648ms/step - loss: 0.6068 - accuracy: 0.7664 - val_loss: 2.6896 - val_accuracy: 0.3169\n"
     ]
    }
   ],
   "source": [
    "epochs = 20\n",
    "history4 = model1.fit(\n",
    "  train_ds,\n",
    "  validation_data=val_ds,\n",
    "  epochs=epochs\n",
    ")"
   ]
  },
  {
   "cell_type": "code",
   "execution_count": 19,
   "metadata": {},
   "outputs": [
    {
     "name": "stdout",
     "output_type": "stream",
     "text": [
      "Epoch 1/20\n",
      "198/198 [==============================] - 132s 665ms/step - loss: 0.6039 - accuracy: 0.7748 - val_loss: 3.6346 - val_accuracy: 0.4700\n",
      "Epoch 2/20\n",
      "198/198 [==============================] - 126s 639ms/step - loss: 0.5874 - accuracy: 0.7773 - val_loss: 3.4532 - val_accuracy: 0.3909\n",
      "Epoch 3/20\n",
      "198/198 [==============================] - 129s 652ms/step - loss: 0.5780 - accuracy: 0.7805 - val_loss: 2.8539 - val_accuracy: 0.3801\n",
      "Epoch 4/20\n",
      "198/198 [==============================] - 135s 683ms/step - loss: 0.5562 - accuracy: 0.7922 - val_loss: 4.8811 - val_accuracy: 0.4409\n",
      "Epoch 5/20\n",
      "198/198 [==============================] - 130s 657ms/step - loss: 0.5527 - accuracy: 0.7892 - val_loss: 3.7979 - val_accuracy: 0.3517\n",
      "Epoch 6/20\n",
      "198/198 [==============================] - 129s 651ms/step - loss: 0.5217 - accuracy: 0.7976 - val_loss: 17.5478 - val_accuracy: 0.1063\n",
      "Epoch 7/20\n",
      "198/198 [==============================] - 130s 655ms/step - loss: 0.5068 - accuracy: 0.8096 - val_loss: 5.8625 - val_accuracy: 0.3106\n",
      "Epoch 8/20\n",
      "198/198 [==============================] - 132s 666ms/step - loss: 0.5108 - accuracy: 0.8044 - val_loss: 2.5022 - val_accuracy: 0.4978\n",
      "Epoch 9/20\n",
      "198/198 [==============================] - 126s 636ms/step - loss: 0.4650 - accuracy: 0.8175 - val_loss: 13.6235 - val_accuracy: 0.2239\n",
      "Epoch 10/20\n",
      "198/198 [==============================] - 127s 641ms/step - loss: 0.5049 - accuracy: 0.8108 - val_loss: 9.9440 - val_accuracy: 0.3397\n",
      "Epoch 11/20\n",
      "198/198 [==============================] - 130s 658ms/step - loss: 0.4886 - accuracy: 0.8159 - val_loss: 4.3532 - val_accuracy: 0.3175\n",
      "Epoch 12/20\n",
      "198/198 [==============================] - 131s 664ms/step - loss: 0.4292 - accuracy: 0.8398 - val_loss: 1.3135 - val_accuracy: 0.6452\n",
      "Epoch 13/20\n",
      "198/198 [==============================] - 127s 640ms/step - loss: 0.4554 - accuracy: 0.8303 - val_loss: 12.9207 - val_accuracy: 0.3428\n",
      "Epoch 14/20\n",
      "198/198 [==============================] - 129s 654ms/step - loss: 0.4430 - accuracy: 0.8405 - val_loss: 3.3454 - val_accuracy: 0.3858\n",
      "Epoch 15/20\n",
      "198/198 [==============================] - 130s 654ms/step - loss: 0.4171 - accuracy: 0.8440 - val_loss: 1.6849 - val_accuracy: 0.5712\n",
      "Epoch 16/20\n",
      "198/198 [==============================] - 130s 654ms/step - loss: 0.4126 - accuracy: 0.8481 - val_loss: 9.8823 - val_accuracy: 0.2334\n",
      "Epoch 17/20\n",
      "198/198 [==============================] - 132s 666ms/step - loss: 0.4089 - accuracy: 0.8470 - val_loss: 4.3923 - val_accuracy: 0.4339\n",
      "Epoch 18/20\n",
      "198/198 [==============================] - 133s 670ms/step - loss: 0.4064 - accuracy: 0.8502 - val_loss: 5.6432 - val_accuracy: 0.2505\n",
      "Epoch 19/20\n",
      "198/198 [==============================] - 133s 672ms/step - loss: 0.3923 - accuracy: 0.8570 - val_loss: 4.0960 - val_accuracy: 0.2498\n",
      "Epoch 20/20\n",
      "198/198 [==============================] - 140s 706ms/step - loss: 0.3567 - accuracy: 0.8657 - val_loss: 5.0853 - val_accuracy: 0.4023\n"
     ]
    }
   ],
   "source": [
    "epochs = 20\n",
    "history4 = model1.fit(\n",
    "  train_ds,\n",
    "  validation_data=val_ds,\n",
    "  epochs=epochs\n",
    ")"
   ]
  },
  {
   "cell_type": "code",
   "execution_count": 6,
   "metadata": {},
   "outputs": [],
   "source": [
    "data = [['CNN_binary', 94.36], ['SVM_binary', 87.48], ['CNN_multiclass', 86.57]]\n",
    "df1 = pd.DataFrame({'Model': ['CNN_binary', 'SVM_binary', 'CNN_multiclass'], 'Accuracy': [94.36, 87.48, 86.57]})"
   ]
  },
  {
   "cell_type": "code",
   "execution_count": 5,
   "metadata": {},
   "outputs": [],
   "source": [
    "import seaborn as sns\n",
    "import pandas as pd"
   ]
  },
  {
   "cell_type": "code",
   "execution_count": 8,
   "metadata": {},
   "outputs": [
    {
     "data": {
      "text/plain": [
       "<AxesSubplot:xlabel='Model', ylabel='Accuracy'>"
      ]
     },
     "execution_count": 8,
     "metadata": {},
     "output_type": "execute_result"
    },
    {
     "data": {
      "image/png": "[encoded data removed]",
      "text/plain": [
       "<Figure size 432x288 with 1 Axes>"
      ]
     },
     "metadata": {
      "needs_background": "light"
     },
     "output_type": "display_data"
    }
   ],
   "source": [
    "sns.barplot(x = 'Model',\n",
    "            y = 'Accuracy',\n",
    "            data = df1)"
   ]
  },
  {
   "cell_type": "code",
   "execution_count": 35,
   "metadata": {},
   "outputs": [],
   "source": [
    "train_ds = train_ds.shuffle(buffer_size=3)"
   ]
  }
 ],
 "metadata": {
  "kernelspec": {
   "display_name": "Python 3 (ipykernel)",
   "language": "python",
   "name": "python3"
  },
  "language_info": {
   "codemirror_mode": {
    "name": "ipython",
    "version": 3
   },
   "file_extension": ".py",
   "mimetype": "text/x-python",
   "name": "python",
   "nbconvert_exporter": "python",
   "pygments_lexer": "ipython3",
   "version": "3.9.12"
  }
 },
 "nbformat": 4,
 "nbformat_minor": 4
}
